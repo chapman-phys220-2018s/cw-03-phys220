{
 "cells": [
  {
   "cell_type": "code",
   "execution_count": 0,
   "metadata": {
    "collapsed": false
   },
   "outputs": [
   ],
   "source": [
    "import gaussian\n",
    "import test_gaussian"
   ]
  },
  {
   "cell_type": "markdown",
   "metadata": {
    "collapsed": false
   },
   "source": [
    "# Classwork 03\n",
    "\n",
    "Daniel, Devon, Myranda\n",
    "\n",
    "Feb.20, 2018\n",
    "\n",
    "## Exercises\n",
    "\n",
    "### Exercise 1:\n",
    "\n",
    "Exercise 1 was a matter of setting up a continuous integration system to test our code.  This may be seen in the banner of the README document.\n",
    "\n",
    "### Exercise 2:\n",
    "\n",
    "We were presented with a Gaussian function $g(x) = \\frac{1}{\\sqrt{2\\pi}},\\exp\\left[-\\frac{x^2}{2}\\right].$ This is a bell curve with a standard deviation of 1 and it is centered around x=0. The Gaussian distribution is particularly useful in statistics as a great many naturally occuring phenomena follow this distribution and working with this distribution is straightforward. As the curve is normalized so that the area underneath is equal to one, integrating Gaussian curve at an inverval of standard deviations yields the number of instances occuring within the specified deviations as a percentage.\n",
    "\n",
    "To prove that the given equation is normalized, we must approximate an integration of the curve using Reimann sum.  With a suffienctly large interval, allowing the spacing between the points in the interval, dx, to become small, will show that the area underneath the curve approaches one. \n",
    "\n",
    "By defining the single variable function g(x=0) as the gaussian curve evaluated at a, it then may be called from other functions to calculate values in a manner that is verifiably correct via unit tests. To show that the equation is correct, its output while x=0 is compared to its known value."
   ]
  },
  {
   "cell_type": "code",
   "execution_count": 0,
   "metadata": {
    "collapsed": false
   },
   "outputs": [
   ],
   "source": [
    "test_gaussian.test_g()"
   ]
  },
  {
   "cell_type": "markdown",
   "metadata": {
    "collapsed": false
   },
   "source": [
    "We coded the Gaussian curve in this manner so that we could use it to generate the values to be summed in the Reimann sum. The fuction name, the integration interval, and the pointspacing are passed to a function, interval(f,a,b,dx) that then returns a list of floats.\n",
    "\n",
    "For example, to generate a list of gaussian values spaced one-half of a standard deviation away from eachother on the interval [-1,1], the function is called in the following manner:"
   ]
  },
  {
   "cell_type": "code",
   "execution_count": 0,
   "metadata": {
    "collapsed": false
   },
   "outputs": [
   ],
   "source": [
    "gaussian.interval(gaussian.g,-1,1,.5)"
   ]
  },
  {
   "cell_type": "markdown",
   "metadata": {
    "collapsed": false
   },
   "source": [
    "It follows logically that as the spacing becomes smaller, the list contains more values. This increases the accuracy of sum as an integration approximation.\n",
    "\n",
    "To ensure this function's accuracy, we used unit tests to check result accuracy for both a small variety of logical arguements and unusual and illogical cases such as when the spacing between points is zero or when the spacing is larger than the interval itself."
   ]
  },
  {
   "cell_type": "code",
   "execution_count": 0,
   "metadata": {
    "collapsed": false
   },
   "outputs": [
   ],
   "source": [
    "test_gaussian.test_interval()"
   ]
  },
  {
   "cell_type": "code",
   "execution_count": 0,
   "metadata": {
    "collapsed": false
   },
   "outputs": [
   ],
   "source": [
   ]
  }
 ],
 "metadata": {
  "kernelspec": {
   "display_name": "Python 3 (Anaconda)",
   "language": "python",
   "name": "anaconda3"
  },
  "language_info": {
   "codemirror_mode": {
    "name": "ipython",
    "version": 3
   },
   "file_extension": ".py",
   "mimetype": "text/x-python",
   "name": "python",
   "nbconvert_exporter": "python",
   "pygments_lexer": "ipython3",
   "version": "3.5.4"
  }
 },
 "nbformat": 4,
 "nbformat_minor": 0
}