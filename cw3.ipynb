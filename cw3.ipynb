{
 "cells": [
  {
   "cell_type": "code",
   "execution_count": 1,
   "metadata": {
    "collapsed": false
   },
   "outputs": [
   ],
   "source": [
    "import gaussian\n",
    "import test_gaussian"
   ]
  },
  {
   "cell_type": "markdown",
   "metadata": {
    "collapsed": false
   },
   "source": [
    "# Classwork 03\n",
    "\n",
    "Daniel, Devon, Myranda\n",
    "\n",
    "Feb.20, 2018\n",
    "\n",
    "## Exercises\n",
    "\n",
    "### Exercise 1:\n",
    "\n",
    "Exercise 1 was a matter of setting up a continuous integration system to test our code.  This may be seen in the banner of the README document.\n",
    "\n",
    "### Exercise 2:\n",
    "\n",
    "We were presented with a Gaussian function $g(x) = \\frac{1}{\\sqrt{2\\pi}},\\exp\\left[-\\frac{x^2}{2}\\right].$ This is a bell curve with a standard deviation of 1 and it is centered around x=0. The Gaussian distribution is particularly useful in statistics as a great many naturally occuring phenomena follow this distribution and working with this distribution is straightforward. As the curve is normalized so that the area underneath is equal to one, integrating Gaussian curve at an inverval of standard deviations yields the number of instances occuring within the specified deviations as a percentage.\n",
    "\n",
    "To prove that the given equation is normalized, we must show that the area underneath the graph is equal to one: $A=1=\\int\\frac{1}{\\sqrt{2\\pi}}exp{\\frac{-x^2}{2}}dx$\n",
    "Computers are unable to use the concept of infinty in calculations.  As we cannot use infinitesimally segments of the interval to integrate, we will instead approximate the integral using a Reimann sum. By using sufficiently small segments of the interval, we can show that the curve is normalized: $\\lim_{dx\\to0} \\sum_{dx=a}^{b} g = 1$\n",
    "\n",
    "#### Defining the Curve as a Function\n",
    "By defining the single variable function g(x=0) as the gaussian curve evaluated at a, it then may be called from other functions to calculate values in a manner that is verifiably correct via unit tests. To show that the equation is correct, its output while x=0 is compared to its known value."
   ]
  },
  {
   "cell_type": "code",
   "execution_count": 2,
   "metadata": {
    "collapsed": false
   },
   "outputs": [
    {
     "name": "stdout",
     "output_type": "stream",
     "text": [
      "Testing g(0):  0.3989422804014327  ?=  0.3989422804014327\n"
     ]
    }
   ],
   "source": [
    "test_gaussian.test_g()"
   ]
  },
  {
   "cell_type": "markdown",
   "metadata": {
    "collapsed": false
   },
   "source": [
    "#### Generating Values\n",
    "We coded the Gaussian curve in this manner so that we could use it to generate the values to be summed in the Reimann sum. The fuction name, the integration interval, and the pointspacing are passed to a function, interval(f,a,b,dx) that then returns a list of floats.\n",
    "\n",
    "For example, to generate a list of gaussian values spaced one-half of a standard deviation away from eachother on the interval [-1,1], the function is called in the following manner:"
   ]
  },
  {
   "cell_type": "code",
   "execution_count": 3,
   "metadata": {
    "collapsed": false
   },
   "outputs": [
    {
     "data": {
      "text/plain": [
       "[0.24197072451914337,\n",
       " 0.3520653267642995,\n",
       " 0.3989422804014327,\n",
       " 0.3520653267642995,\n",
       " 0.24197072451914337]"
      ]
     },
     "execution_count": 3,
     "metadata": {
     },
     "output_type": "execute_result"
    }
   ],
   "source": [
    "gaussian.interval(gaussian.g,-1,1,.5)"
   ]
  },
  {
   "cell_type": "markdown",
   "metadata": {
    "collapsed": false
   },
   "source": [
    "It follows logically that as the spacing becomes smaller, the list contains more values. This increases the accuracy of sum as an integration approximation. Unit testing is used to verify this bit of intuition as well as check for accuracy in other qualities of this function. Here, test_interval() compares known values to generated values for a variety of imputs."
   ]
  },
  {
   "cell_type": "code",
   "execution_count": 4,
   "metadata": {
    "collapsed": false
   },
   "outputs": [
    {
     "name": "stdout",
     "output_type": "stream",
     "text": [
      "Testing f(0): 0  ?=  0.0\n",
      "Testing f(.2): 0.4  ?=  0.4\n",
      "Testing f(.4): 0.8  ?=  0.8\n",
      "Testing f(.6): 1.2  ?=  1.2000000000000002\n",
      "Testing interval f(.8): 1.6  ?=  1.6\n",
      "Testing interval f(1.0): 2  ?=  2.0\n",
      "Testing length of intervals: 6  ?=  6\n"
     ]
    }
   ],
   "source": [
    "test_gaussian.test_interval()"
   ]
  },
  {
   "cell_type": "markdown",
   "metadata": {
    "collapsed": false
   },
   "source": [
    "Having verified that that the function interval() generates a viable list of values, the values may be summed together to calculate the aproximation.\n",
    "\n",
    "#### Summation\n",
    "While the term Reimann sum is an umbrella term for a great many ways of approximating the area under a curve, due to the specific nature of the given curve, we are capable of getting sufficiently accurate results from the basic rectuangular left endpoint point (although it is worth noting that this code is easily adapted to become the right endpoint sum and that gaussian value is included in the list generated by interval()).  Any error introduced left of x=0 with be countered by error with an opposite sign introduced to the right of x=0.  This cancellation effect is maximized when our interval of integration is centered around x=0, but given a large enough interval, error that is not cancelled is negligibly small.\n",
    "\n",
    "A unit test for this function exists checking an integrated value against a known value so that it may be verified that the function is properly summing values."
   ]
  },
  {
   "cell_type": "code",
   "execution_count": 5,
   "metadata": {
    "collapsed": false
   },
   "outputs": [
    {
     "name": "stdout",
     "output_type": "stream",
     "text": [
      "This tests the integration of 2x from 0 to 2 with step size of .000001:  4 ?= 3.999998000000001\n"
     ]
    }
   ],
   "source": [
    "test_gaussian.test_integrate()"
   ]
  },
  {
   "cell_type": "markdown",
   "metadata": {
    "collapsed": false
   },
   "source": [
    "Not only can this integration mathod be verified by checking against the known values of area for given standard deviation intervals, but there is also another unit test that verifies this as well.\n",
    "\n",
    "test_gauss_norm() uses an exceptionally small point spacing to calculate the area found within 5 standard deviations of x=0. This unit test shows that this integration method can be used to prove that the given curve is normalized for an error tolerance of less than one tenth of a percent."
   ]
  },
  {
   "cell_type": "code",
   "execution_count": 6,
   "metadata": {
    "collapsed": false
   },
   "outputs": [
    {
     "name": "stdout",
     "output_type": "stream",
     "text": [
      "This tests the interval from -5 to 5 with small step size of .000001:  0.999999 ?= 0.9999994266969233\n"
     ]
    }
   ],
   "source": [
    "test_gaussian.test_gauss_norm()"
   ]
  },
  {
   "cell_type": "markdown",
   "metadata": {
    "collapsed": false
   },
   "source": [
   ]
  }
 ],
 "metadata": {
  "kernelspec": {
   "display_name": "Python 3 (Anaconda)",
   "language": "python",
   "name": "anaconda3"
  },
  "language_info": {
   "codemirror_mode": {
    "name": "ipython",
    "version": 3
   },
   "file_extension": ".py",
   "mimetype": "text/x-python",
   "name": "python",
   "nbconvert_exporter": "python",
   "pygments_lexer": "ipython3",
   "version": "3.5.4"
  }
 },
 "nbformat": 4,
 "nbformat_minor": 0
}